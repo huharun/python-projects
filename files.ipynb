{
 "cells": [
  {
   "cell_type": "code",
   "execution_count": 8,
   "metadata": {},
   "outputs": [],
   "source": [
    "import numpy as np\n",
    "data = np.random.random((10,3))\n",
    "np.savetxt(\"main.csv\", data, fmt = \"%.2f\", delimiter=\",\", header=\"H1, H2, H3\")"
   ]
  },
  {
   "cell_type": "code",
   "execution_count": 14,
   "metadata": {},
   "outputs": [
    {
     "data": {
      "text/plain": [
       "array([[0.53, 0.33, 0.37],\n",
       "       [0.79, 0.9 , 0.56],\n",
       "       [0.48, 0.53, 0.41],\n",
       "       [0.28, 0.14, 0.45],\n",
       "       [0.61, 0.98, 0.02],\n",
       "       [0.79, 0.03, 0.19],\n",
       "       [0.33, 0.39, 0.83],\n",
       "       [0.14, 0.11, 0.46],\n",
       "       [0.6 , 0.56, 0.99],\n",
       "       [0.61, 0.14, 0.99]])"
      ]
     },
     "execution_count": 14,
     "metadata": {},
     "output_type": "execute_result"
    }
   ],
   "source": [
    "# read csv file\n",
    "read = np.loadtxt(\"main.csv\", delimiter=\",\")\n",
    "read[:,:]"
   ]
  },
  {
   "cell_type": "code",
   "execution_count": 17,
   "metadata": {},
   "outputs": [],
   "source": [
    "import pickle\n",
    "data2 = {\"First\":1, \"Second\":2, \"Third\":3}\n",
    "pickle.dump(data2, open(\"new.pkl\", \"wb\"))"
   ]
  },
  {
   "cell_type": "code",
   "execution_count": 20,
   "metadata": {},
   "outputs": [
    {
     "data": {
      "text/plain": [
       "{'First': 1, 'Second': 2, 'Third': 3}"
      ]
     },
     "execution_count": 20,
     "metadata": {},
     "output_type": "execute_result"
    }
   ],
   "source": [
    "read_pkl = pickle.load(open(\"new.pkl\", \"rb\"))\n",
    "read_pkl"
   ]
  },
  {
   "cell_type": "code",
   "execution_count": 31,
   "metadata": {},
   "outputs": [],
   "source": [
    "import json\n",
    "\n",
    "data3 = {\n",
    "    \"mars need me\" : \"we\"\n",
    "    }\n",
    "\n",
    "json.dump(data3, open(\"jsonfile.json\", \"w\"))"
   ]
  },
  {
   "cell_type": "code",
   "execution_count": 32,
   "metadata": {},
   "outputs": [
    {
     "data": {
      "text/plain": [
       "{'mars need me': 'we'}"
      ]
     },
     "execution_count": 32,
     "metadata": {},
     "output_type": "execute_result"
    }
   ],
   "source": [
    "read_json = json.load(open(\"jsonfile.json\",\"r\"))\n",
    "read_json"
   ]
  },
  {
   "cell_type": "code",
   "execution_count": null,
   "metadata": {},
   "outputs": [],
   "source": []
  }
 ],
 "metadata": {
  "kernelspec": {
   "display_name": "Python 3",
   "language": "python",
   "name": "python3"
  },
  "language_info": {
   "codemirror_mode": {
    "name": "ipython",
    "version": 3
   },
   "file_extension": ".py",
   "mimetype": "text/x-python",
   "name": "python",
   "nbconvert_exporter": "python",
   "pygments_lexer": "ipython3",
   "version": "3.11.3"
  },
  "orig_nbformat": 4
 },
 "nbformat": 4,
 "nbformat_minor": 2
}
