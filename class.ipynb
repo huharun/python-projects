{
 "cells": [
  {
   "cell_type": "code",
   "execution_count": 14,
   "metadata": {},
   "outputs": [
    {
     "name": "stdout",
     "output_type": "stream",
     "text": [
      "Name :  2 , Position: 3 , Salary: 4\n",
      "Name :  4 , Position: 4 , Salary: 4\n",
      "There ara 2 employees\n"
     ]
    }
   ],
   "source": [
    "import numpy as np\n",
    "\n",
    "class Employee:\n",
    "\n",
    "    count = 0\n",
    "\n",
    "    \n",
    "\n",
    "\n",
    "    def __init__(self, name, position, salary):\n",
    "        self.name = name\n",
    "        self.position = position\n",
    "        self.salary = salary\n",
    "        Employee.count+=1\n",
    "        # emp_count -= 1\n",
    "\n",
    "\n",
    "\n",
    "    def displayCount(self):\n",
    "        print(\"There ara %d employees\" % Employee.count)\n",
    "\n",
    "    def displayDetails(self):\n",
    "            print(\"Name : \", self.name, \", Position:\", self.position,  \", Salary:\", self.salary)\n",
    "\n",
    "\n",
    "emp_count = int(input())\n",
    "emp = []\n",
    "while emp_count > 0:\n",
    "    emp.append(Employee(input(\"Name: \"), input(\"Position: \"), input(\"Salary: \")))\n",
    "    emp_count -= 1\n",
    "\n",
    "# emp1 = Employee(\"E1\",\"Manager\",\"1000000\")\n",
    "# emp2 = Employee(\"E2\",\"Programmer\",\"1000000\")\n",
    "# emp3 = Employee(\"E3\",\"HR\",\"1000000\")\n",
    "# emp4 = Employee(\"E4\",\"Admin\",\"1000000\")\n",
    "# emp\n",
    "\n",
    "for obj in emp:\n",
    "    obj.displayDetails()\n",
    "\n",
    "obj.displayCount()\n",
    "\n",
    "# emp1.displayDetails()\n",
    "# emp2.displayDetails()\n",
    "# emp3.displayDetails()\n",
    "# emp4.displayDetails()"
   ]
  },
  {
   "cell_type": "code",
   "execution_count": null,
   "metadata": {},
   "outputs": [],
   "source": []
  },
  {
   "cell_type": "code",
   "execution_count": null,
   "metadata": {},
   "outputs": [],
   "source": []
  }
 ],
 "metadata": {
  "kernelspec": {
   "display_name": "Python 3",
   "language": "python",
   "name": "python3"
  },
  "language_info": {
   "codemirror_mode": {
    "name": "ipython",
    "version": 3
   },
   "file_extension": ".py",
   "mimetype": "text/x-python",
   "name": "python",
   "nbconvert_exporter": "python",
   "pygments_lexer": "ipython3",
   "version": "3.11.3"
  },
  "orig_nbformat": 4
 },
 "nbformat": 4,
 "nbformat_minor": 2
}
