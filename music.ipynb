{
 "cells": [
  {
   "cell_type": "code",
   "execution_count": 4,
   "metadata": {},
   "outputs": [
    {
     "name": "stdout",
     "output_type": "stream",
     "text": [
      "Requirement already satisfied: pygame in c:\\users\\arunr\\appdata\\local\\programs\\python\\python311\\lib\\site-packages (2.5.0)\n",
      "Note: you may need to restart the kernel to use updated packages.\n"
     ]
    }
   ],
   "source": [
    "pip install pygame\n"
   ]
  },
  {
   "cell_type": "code",
   "execution_count": 7,
   "metadata": {},
   "outputs": [],
   "source": [
    "from pygame import mixer\n",
    "\n",
    "mixer.init()\n",
    "mixer.music.load('favourite_girl.mp3')\n",
    "mixer.music.play()\n",
    "mixer.music.stop()"
   ]
  },
  {
   "cell_type": "code",
   "execution_count": 17,
   "metadata": {},
   "outputs": [],
   "source": [
    "from tkinter import *\n",
    "from tkinter import filedialog\n",
    "from pygame import mixer\n",
    "\n",
    "class Player:\n",
    "    def __init__(self,window):\n",
    "        window.geometry('320x100');\n",
    "        window.title('music player');\n",
    "        window.resizable(0,0);\n",
    "        load = Button(window, text='load', width=10, font=('Times',10), command=self.load)\n",
    "        Play = Button(window, text='play', width=10, font=('Times',10), command=self.play)\n",
    "        Pause = Button(window, text='pause', width=10, font=('Times',10), command=self.pause)\n",
    "        Stop = Button(window, text='stop', width=10, font=('Times',10), command=self.stop)\n",
    "        load.place(x=0, y=20);\n",
    "        Play.place(x=110, y=20);\n",
    "        Pause.place(x=220, y=20);\n",
    "        Stop.place(x=110, y=60);\n",
    "        self.music_file = False\n",
    "        self.Playing_state = False\n",
    "\n",
    "    def load(self):\n",
    "        self.music_file = filedialog.askopenfilename()\n",
    "\n",
    "    def play(self):\n",
    "        if self.music_file:\n",
    "            mixer.init()\n",
    "            mixer.music.load(self.music_file)\n",
    "            mixer.music.play()\n",
    "\n",
    "    def pause(self):\n",
    "        if not self.Playing_state:\n",
    "            mixer.music.pause()\n",
    "            mixer.Playing_state = True\n",
    "        else:\n",
    "            mixer.music.unpause()\n",
    "            mixer.Playing_state = False\n",
    "\n",
    "    def stop(self):\n",
    "            mixer.music.stop()\n",
    "\n",
    "new_root = Tk()\n",
    "Player_app = Player(new_root)\n",
    "new_root.mainloop()\n",
    "\n"
   ]
  },
  {
   "cell_type": "code",
   "execution_count": null,
   "metadata": {},
   "outputs": [],
   "source": []
  }
 ],
 "metadata": {
  "kernelspec": {
   "display_name": "Python 3",
   "language": "python",
   "name": "python3"
  },
  "language_info": {
   "codemirror_mode": {
    "name": "ipython",
    "version": 3
   },
   "file_extension": ".py",
   "mimetype": "text/x-python",
   "name": "python",
   "nbconvert_exporter": "python",
   "pygments_lexer": "ipython3",
   "version": "3.11.3"
  },
  "orig_nbformat": 4
 },
 "nbformat": 4,
 "nbformat_minor": 2
}
