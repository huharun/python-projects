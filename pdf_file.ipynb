{
 "cells": [
  {
   "cell_type": "code",
   "execution_count": 1,
   "metadata": {},
   "outputs": [
    {
     "name": "stdout",
     "output_type": "stream",
     "text": [
      "Requirement already satisfied: PyPDF2 in c:\\users\\arunr\\appdata\\local\\programs\\python\\python311\\lib\\site-packages (3.0.1)\n",
      "Note: you may need to restart the kernel to use updated packages.\n"
     ]
    }
   ],
   "source": [
    "pip install PyPDF2"
   ]
  },
  {
   "cell_type": "code",
   "execution_count": 6,
   "metadata": {},
   "outputs": [
    {
     "name": "stdout",
     "output_type": "stream",
     "text": [
      "ACHIEVEMENTS / WORKSHOPCAREER GOALS\n",
      "To obtain a challenging position in a high quality\n",
      "engineering environment where my resourceful\n",
      "experience and skills will add value to\n",
      "organizational operations.\n",
      "ACADEMIC HISTORY\n",
      "United Institute of TechnologyArun Ramkrishna\n",
      "Programmer / Developer\n",
      "BE/Computer Science and Engineering\n",
      "7.45 CGPA                                    2018-2022\n",
      "Baren Bruck hr sec school\n",
      "HSC     -  66%                                2017-2018 \n",
      "SSLC   -  90.4 %.                           2015-2016ABOUT ME\n",
      "I am outgoing, dedicated, and open-minded. I get\n",
      "across to people and adjust to changes with\n",
      "ease.\n",
      "PERSONAL DETAILS\n",
      "Date of Birth                   :   22-08-2000 \n",
      "Gender                           :   Male \n",
      "Father's Name                :  Thangapalam \n",
      "Mother's Name               :   Mageshwari \n",
      "Aadhar Card Number     :   24043227797\n",
      "Language known            :   English,Tamil.One year experience as Junior Programmer\n",
      "Analyst in Enova Software and Hardware\n",
      "solutions from June-2022 to June-2023.\n",
      "As Junior developer to develop and Implement\n",
      "COE Software Application to process with\n",
      "students data, Worked in agile and dynamic\n",
      "software development lifesycle.\n",
      "The skills defines the role are JQuery , Ajax,\n",
      "PHP, Codeigniter (MVC Framework), MySQL\n",
      "(phpmyadmin).EXPERIENCE\n",
      "EXTRA CURRICULAR & HOBBIES\n",
      "DECLARATION\n",
      "I hereby declare that all the details provided above\n",
      "are true to the best of my knowledge.8072087295\n",
      "arunramkrishna997@gmail.com\n",
      "https://www.linkedin.com/in/arun-  \n",
      "ramkrishna-7b4b4719a\n",
      "Participated in techgyan's Artificial intelligence\n",
      "workshop at IIT Madras on September 2019.\n",
      "Executive Member of department Association in\n",
      "second year, Secretary of department\n",
      "Association in final yearPROJECTS / SKILLS\n",
      "Projects done in academic years\n",
      "1.Title - Digital Library\n",
      "Description - Mini project - pdf book export\n",
      "2.Title - Privacy preserving storage\n",
      "Description - Final year project - access\n",
      "and giving storage as a service of multiple\n",
      "files to user by single admin authorization.\n",
      "Learnings and projects - github.com/huharun\n",
      "Other skills - Git, Data Structures, OOPS\n",
      "Completed online courses at skillup - Python,\n",
      "MySQL, Introduction to Artificial Intelligence\n",
      "Winner in district level ball badminton in\n",
      "school senior year.\n",
      "Runner in Anna University zone level\n",
      "hockey.\n",
      "Running, playing games and reading blogs.\n"
     ]
    }
   ],
   "source": [
    "import PyPDF2\n",
    "\n",
    "pdf_file = open('arun_resume.pdf', 'rb')\n",
    "reader = PyPDF2.PdfReader(pdf_file)\n",
    "page = reader.pages[0]\n",
    "print(page.extract_text())\n",
    "\n",
    "pdf_file.close()"
   ]
  },
  {
   "cell_type": "code",
   "execution_count": null,
   "metadata": {},
   "outputs": [],
   "source": []
  }
 ],
 "metadata": {
  "kernelspec": {
   "display_name": "Python 3",
   "language": "python",
   "name": "python3"
  },
  "language_info": {
   "codemirror_mode": {
    "name": "ipython",
    "version": 3
   },
   "file_extension": ".py",
   "mimetype": "text/x-python",
   "name": "python",
   "nbconvert_exporter": "python",
   "pygments_lexer": "ipython3",
   "version": "3.11.3"
  },
  "orig_nbformat": 4
 },
 "nbformat": 4,
 "nbformat_minor": 2
}
